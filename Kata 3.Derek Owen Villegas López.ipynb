{
  "cells": [
    {
      "cell_type": "markdown",
      "metadata": {},
      "source": [
        "# Asteroid Warning #\n",
        "This section will let us k now if theres an asteroid manace to earth."
      ]
    },
    {
      "cell_type": "code",
      "execution_count": null,
      "metadata": {},
      "outputs": [],
      "source": [
        "AsteroidSpeed = 49\n",
        "AsteroidLength = 40\n",
        "if AsteroidSpeed > 25 and AsteroidSpeed >= 20 and AsteroidLength >= 40:\n",
        "    print(\"You'll be able to see the lightrail on the atmosphere\")\n",
        "    print(\"There's an asteroid at \",AsteroidSpeed,\"km/s coming to earth, it is a dangerous one!\")\n",
        "    print(\"The asteroid is too big, prepare for the impact\")\n",
        "else:\n",
        "    print(\"The asteroid is no threat to earth\")"
      ]
    }
  ],
  "metadata": {
    "interpreter": {
      "hash": "916dbcbb3f70747c44a77c7bcd40155683ae19c65e1c03b4aa3499c5328201f1"
    },
    "kernel_info": {
      "name": "conda-env-py37_default-py"
    },
    "kernelspec": {
      "display_name": "py37_default",
      "language": "python",
      "name": "python3"
    },
    "language_info": {
      "codemirror_mode": {
        "name": "ipython",
        "version": 3
      },
      "file_extension": ".py",
      "mimetype": "text/x-python",
      "name": "python",
      "nbconvert_exporter": "python",
      "pygments_lexer": "ipython3",
      "version": "3.8.10"
    },
    "nteract": {
      "version": "nteract-front-end@1.0.0"
    },
    "orig_nbformat": 4
  },
  "nbformat": 4,
  "nbformat_minor": 2
}
