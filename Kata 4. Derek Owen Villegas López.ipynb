{
  "cells": [
    {
      "cell_type": "markdown",
      "metadata": {},
      "source": [
        "# MoonFacts #"
      ]
    },
    {
      "cell_type": "code",
      "execution_count": null,
      "metadata": {},
      "outputs": [],
      "source": [
        "text = \"\"\"Interesting facts about the Moon. The Moon is Earth's only satellite. There are several interesting facts about the Moon and how it affects life here on Earth. \n",
        "On average, the Moon moves 4cm away from the Earth every year. This yearly drift is not significant enough to cause immediate effects on Earth. The highest daylight temperature of the Moon is 127 C.\"\"\"\n",
        "text_parts = text.split('. ')\n",
        "print(text_parts)"
      ]
    },
    {
      "cell_type": "code",
      "execution_count": null,
      "metadata": {},
      "outputs": [],
      "source": [
        "key_words = [\"average\", \"temperature\", \"satellite\"]\n",
        "for sentence in text_parts:\n",
        "    for key_word in key_words:\n",
        "        if key_word in sentence:\n",
        "            print(sentence.replace(\"C\", \"Celsius\"))\n",
        "            break"
      ]
    },
    {
      "cell_type": "code",
      "execution_count": null,
      "metadata": {},
      "outputs": [],
      "source": [
        "planet = 'Earth'\n",
        "gravity = 0.00162 # in kms\n",
        "name = 'Moon'\n",
        "###\n",
        "title = f'Gravity facts about {name}'\n",
        "###\n",
        "hechos = f\"\"\"{'-'*80}\n",
        "Nombre del planeta: {planet}\n",
        "Gravedad en {name}: {gravity*1000} m/s2\n",
        "\"\"\"\n",
        "###\n",
        "template = f\"\"\"{title.title()}\n",
        "{hechos}\n",
        "\"\"\"\n",
        "print(template)\n",
        "\n",
        "new_template = \"\"\"\n",
        "GravityFacts about: {name}\n",
        "Planet name: {planet}\n",
        "gravity on {name}: {gravity}m/s2\n",
        "\"\"\"\n",
        "\n",
        "print(new_template.format(name=name, planet=planet, gravity=gravity*1000))"
      ]
    }
  ],
  "metadata": {
    "interpreter": {
      "hash": "502cd6c3b6c9e666d195e1caff9d64ea12bf644e547a4c8fae84812082c54b6f"
    },
    "kernel_info": {
      "name": "conda-env-py37_default-py"
    },
    "kernelspec": {
      "display_name": "py37_default",
      "language": "python",
      "name": "python3"
    },
    "language_info": {
      "codemirror_mode": {
        "name": "ipython",
        "version": 3
      },
      "file_extension": ".py",
      "mimetype": "text/x-python",
      "name": "python",
      "nbconvert_exporter": "python",
      "pygments_lexer": "ipython3",
      "version": "3.9.5"
    },
    "nteract": {
      "version": "nteract-front-end@1.0.0"
    },
    "orig_nbformat": 4
  },
  "nbformat": 4,
  "nbformat_minor": 2
}
