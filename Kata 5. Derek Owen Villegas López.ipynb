{
  "cells": [
    {
      "cell_type": "markdown",
      "metadata": {},
      "source": [
        "# Distancia Entre los Planetas #"
      ]
    },
    {
      "cell_type": "code",
      "execution_count": null,
      "metadata": {},
      "outputs": [],
      "source": [
        "DistanceEarth = 149597870\n",
        "DistanceJupiter = 778547200\n",
        "DistanceBetween = DistanceJupiter-DistanceEarth\n",
        "DistanceBetweenMiles = DistanceBetween*0.621\n",
        "print(f'la distancia entre la Tierra y Júpiter es {DistanceBetween} km')\n",
        "print(f'la distancia entre la Tierra y Júpiter es {round(DistanceBetweenMiles)} mi')"
      ]
    },
    {
      "cell_type": "markdown",
      "metadata": {},
      "source": [
        "# Distancia del Sol a los Planetas #"
      ]
    },
    {
      "cell_type": "markdown",
      "metadata": {},
      "source": [
        "Para probar el proyecto, ejecuta tu notebook. En la parte superior de vscode surgirá un cuadro de diálogo para que proporciones las distancias. Puede utilizar los datos de la tabla siguiente:\n",
        "\n",
        "| Planeta  | Distancia al sol |\n",
        "| ------- | ----------------- |\n",
        "| Mercurio | 57900000          |\n",
        "| Venus   | 108200000         |\n",
        "| Tierra   | 149600000         |\n",
        "| Marte    | 227900000         |\n",
        "| Júpiter | 778600000         |\n",
        "| Saturno  | 1433500000        |\n",
        "| Urano  | 2872500000        |\n",
        "| Neptuno | 4495100000        |"
      ]
    },
    {
      "cell_type": "code",
      "execution_count": null,
      "metadata": {},
      "outputs": [],
      "source": [
        "DistanciaPlaneta1=DistanciaPlaneta2=int()\n",
        "DistanciaPlaneta1=int(input('introduzca la distancia del sol del primer planeta en Km'))\n",
        "DistanciaPlaneta2=int(input('introduzca la distancia del sol del segundo planeta en Km'))\n",
        "(DistanciaKm)= DistanciaPlaneta2-DistanciaPlaneta1\n",
        "print(abs(DistanciaKm))\n",
        "DistanciaMi=DistanciaKm*0.621\n",
        "print(abs(DistanciaMi))"
      ]
    }
  ],
  "metadata": {
    "interpreter": {
      "hash": "502cd6c3b6c9e666d195e1caff9d64ea12bf644e547a4c8fae84812082c54b6f"
    },
    "kernel_info": {
      "name": "conda-env-py37_default-py"
    },
    "kernelspec": {
      "display_name": "py37_default",
      "language": "python",
      "name": "python3"
    },
    "language_info": {
      "codemirror_mode": {
        "name": "ipython",
        "version": 3
      },
      "file_extension": ".py",
      "mimetype": "text/x-python",
      "name": "python",
      "nbconvert_exporter": "python",
      "pygments_lexer": "ipython3",
      "version": "3.9.7"
    },
    "nteract": {
      "version": "nteract-front-end@1.0.0"
    },
    "orig_nbformat": 4
  },
  "nbformat": 4,
  "nbformat_minor": 2
}
